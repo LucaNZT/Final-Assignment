{
 "cells": [
  {
   "cell_type": "markdown",
   "id": "3d64e292-0f8b-49d0-8d40-792b35031038",
   "metadata": {},
   "source": [
    "# Data Science Tools and Ecosystem"
   ]
  },
  {
   "cell_type": "markdown",
   "id": "0211d8bf-91a7-4de3-bba4-47c7f14c01bb",
   "metadata": {},
   "source": [
    "In this notebook we will summarize ools and Ecosystem for Data Sience"
   ]
  },
  {
   "cell_type": "markdown",
   "id": "e4413a1b-aad7-4514-a504-78f6e3a52787",
   "metadata": {},
   "source": [
    "**Objectives:**\n",
    "- List popular languages for Data Science\n",
    "- List commonly used libraries used by Data Scientists\n",
    "- List some Data Science Tools"
   ]
  },
  {
   "cell_type": "markdown",
   "id": "3641b4ba-24a2-4a37-b6f1-ac63efb4067a",
   "metadata": {},
   "source": [
    "Some of the popular languages that Data Scientists use are:\n",
    "1. Pyhton\n",
    "2. R\n",
    "3. SQL\n",
    "4. C++\n",
    "5. Julia"
   ]
  },
  {
   "cell_type": "markdown",
   "id": "9563867e-b117-48f6-b266-2dc95bd16ea3",
   "metadata": {},
   "source": [
    "Some of the commonly used libraries used by Data Scientists include:\n",
    "1. Pandas\n",
    "2. NumPy\n",
    "3. SciPy \n",
    "4. Tensorflow\n",
    "5. PyTorch\n",
    "    "
   ]
  },
  {
   "cell_type": "markdown",
   "id": "52fc79b3-6456-4c12-9f46-27df811c0f5b",
   "metadata": {},
   "source": [
    "|Data Science Tools|\n",
    "|---|\n",
    "|Jupyter Notebook|\n",
    "|RStudio|\n",
    "|Apache Spark|"
   ]
  },
  {
   "cell_type": "markdown",
   "id": "f4858a8b-9edb-464c-8fac-f892de727959",
   "metadata": {},
   "source": [
    "### Below are a few examples of evaluating arithmetic expressions in Python"
   ]
  },
  {
   "cell_type": "code",
   "execution_count": 2,
   "id": "b4869224-3bcb-42b9-b513-3c53ffd9c88a",
   "metadata": {},
   "outputs": [
    {
     "name": "stdout",
     "output_type": "stream",
     "text": [
      "This a simple arithmetic expression to mutiply then add integers\n"
     ]
    },
    {
     "data": {
      "text/plain": [
       "17"
      ]
     },
     "execution_count": 2,
     "metadata": {},
     "output_type": "execute_result"
    }
   ],
   "source": [
    "print(\"This a simple arithmetic expression to mutiply then add integers\")\n",
    "(3*4)+5"
   ]
  },
  {
   "cell_type": "code",
   "execution_count": 3,
   "id": "bc14ade1-0dd0-4e25-af85-51e9a08fb7ca",
   "metadata": {},
   "outputs": [
    {
     "name": "stdout",
     "output_type": "stream",
     "text": [
      "This will convert 200 minutes to hours by diving by 60\n"
     ]
    },
    {
     "data": {
      "text/plain": [
       "3.3333333333333335"
      ]
     },
     "execution_count": 3,
     "metadata": {},
     "output_type": "execute_result"
    }
   ],
   "source": [
    "print(\"This will convert 200 minutes to hours by diving by 60\")\n",
    "200/60"
   ]
  },
  {
   "cell_type": "markdown",
   "id": "ac3ee1b2-4fba-4983-8623-1f7152e1e4e5",
   "metadata": {},
   "source": [
    "## Author\n",
    "Nazaret Luca"
   ]
  },
  {
   "cell_type": "code",
   "execution_count": null,
   "id": "24cb89cc-c34b-486e-82e2-9027b710c45a",
   "metadata": {},
   "outputs": [],
   "source": []
  }
 ],
 "metadata": {
  "kernelspec": {
   "display_name": "Python 3 (ipykernel)",
   "language": "python",
   "name": "python3"
  },
  "language_info": {
   "codemirror_mode": {
    "name": "ipython",
    "version": 3
   },
   "file_extension": ".py",
   "mimetype": "text/x-python",
   "name": "python",
   "nbconvert_exporter": "python",
   "pygments_lexer": "ipython3",
   "version": "3.9.12"
  }
 },
 "nbformat": 4,
 "nbformat_minor": 5
}
